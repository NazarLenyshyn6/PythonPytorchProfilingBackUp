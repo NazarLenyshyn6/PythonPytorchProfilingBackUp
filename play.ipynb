{
 "cells": [
  {
   "cell_type": "code",
   "execution_count": 14,
   "metadata": {},
   "outputs": [],
   "source": [
    "from python_profiling.composed_profiling.composed_profiler import ComposedProfiler\n",
    "from python_profiling.python_profiling_configs import ComposedProfilingConfig\n",
    "from python_profiling.python_profiling_enums import *\n",
    "\n",
    "composed_profiling_config = ComposedProfilingConfig(\n",
    "    call_graph_profiling_strategy_params = {'output_file': 'hello.prof'},\n",
    "    time_profiling_strategy = TimeProfilingStrategy.CALL_GRAPH_TIME_PROFILER,\n",
    "    memory_profiling_strategy = MemoryProfilingStrategy.LINE_MEMORY_PROFILER,\n",
    "    call_graph_profiling_strategy = CallGraphProfilingStrategy.CALL_GRAPH_PROFILER\n",
    ")\n",
    "\n",
    "@ComposedProfiler(composed_profiling_config=composed_profiling_config)\n",
    "def main(name):\n",
    "    print(f'Hello from the main function! {name}')\n",
    "    for _ in range(1000):\n",
    "        nested()\n",
    "    # 1 / 0\n",
    "    return 11\n",
    "        \n",
    "def nested():\n",
    "    return sum(i*i for i in range(1000))\n"
   ]
  },
  {
   "cell_type": "code",
   "execution_count": 15,
   "metadata": {},
   "outputs": [
    {
     "name": "stdout",
     "output_type": "stream",
     "text": [
      "Hello from the main function! bob\n",
      "Hello from the main function! bob\n",
      "Hello from the main function! bob\n",
      "Hello from the main function! bob\n"
     ]
    }
   ],
   "source": [
    "res = main(name='bob')"
   ]
  },
  {
   "cell_type": "code",
   "execution_count": 16,
   "metadata": {},
   "outputs": [
    {
     "name": "stdout",
     "output_type": "stream",
     "text": [
      "-----------------------------------------------------------------------------------------------\n",
      "Time Profiling Result:\n",
      "Profiler: sort_key='cumulative' func_filter=None top_n=10\n",
      "Profiled Function: main\n",
      "Function Kwargs: {'name': 'bob'}\n",
      "Function Result: 11\n",
      "Function Profiling Result: Thu Apr 24 10:59:55 2025    result.prof\n",
      "\n",
      "         1003028 function calls in 0.263 seconds\n",
      "\n",
      "   Ordered by: cumulative time\n",
      "   List reduced from 23 to 10 due to restriction <10>\n",
      "\n",
      "   ncalls  tottime  percall  cumtime  percall filename:lineno(function)\n",
      "        1    0.001    0.001    0.263    0.263 4210439460.py:12(main)\n",
      "     1000    0.002    0.000    0.260    0.000 4210439460.py:20(nested)\n",
      "     1000    0.115    0.000    0.258    0.000 {built-in method builtins.sum}\n",
      "  1001000    0.144    0.000    0.144    0.000 4210439460.py:21(<genexpr>)\n",
      "        1    0.000    0.000    0.002    0.002 {built-in method builtins.print}\n",
      "        2    0.000    0.000    0.002    0.001 iostream.py:526(write)\n",
      "        2    0.000    0.000    0.001    0.001 iostream.py:456(_schedule_flush)\n",
      "        1    0.000    0.000    0.001    0.001 iostream.py:202(schedule)\n",
      "        1    0.001    0.001    0.001    0.001 socket.py:543(send)\n",
      "        1    0.000    0.000    0.000    0.000 context_managers.py:120(__exit__)\n",
      "\n",
      "\n",
      "\n",
      "Function Exceptions: None\n",
      "-----------------------------------------------------------------------------------------------\n",
      "Memory Profiling Result:\n",
      "Profiler: <class 'python_profiling.memory_profiling.line_memory_profiler.LineMemoryProfiler'>\n",
      "Profiled Function: main\n",
      "Function Kwargs: {'name': 'bob'}\n",
      "Function Result: 11\n",
      "Start Memory: 117.94921875 MiB\n",
      "Peak Memory: 157.4375 MiB\n",
      "End memory: 157.4375 MiB\n",
      "Max memory increase: 39.48828125 MiB\n",
      "Memory timeline: [117.94921875, 157.40625, 157.43359375, 157.43359375, 157.4375]\n",
      "Function Exception: None\n",
      "-----------------------------------------------------------------------------------------------\n",
      "Call Graph Profiling Result: \n",
      "Profiler: <class 'python_profiling.call_graph_profiling.call_graph_profiler.CallGraphProfiler'>\n",
      "Profiled Function: main\n",
      "Function Kwargs: {'name': 'bob'}\n",
      "Function Result: 11\n",
      "Output file: hello.prof\n",
      "Function Exception: None\n",
      "\n"
     ]
    }
   ],
   "source": [
    "print(res)"
   ]
  },
  {
   "cell_type": "code",
   "execution_count": null,
   "metadata": {},
   "outputs": [],
   "source": []
  }
 ],
 "metadata": {
  "kernelspec": {
   "display_name": "base",
   "language": "python",
   "name": "python3"
  },
  "language_info": {
   "codemirror_mode": {
    "name": "ipython",
    "version": 3
   },
   "file_extension": ".py",
   "mimetype": "text/x-python",
   "name": "python",
   "nbconvert_exporter": "python",
   "pygments_lexer": "ipython3",
   "version": "3.10.9"
  }
 },
 "nbformat": 4,
 "nbformat_minor": 2
}
