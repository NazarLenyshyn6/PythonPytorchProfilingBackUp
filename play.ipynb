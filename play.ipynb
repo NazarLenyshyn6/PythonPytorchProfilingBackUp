{
 "cells": [
  {
   "cell_type": "code",
   "execution_count": 1,
   "metadata": {},
   "outputs": [
    {
     "ename": "ValidationError",
     "evalue": "1 validation error for CallGraphTimeProfiler\n  Value error, Invalid sort key, valid options: [time, cumulative, calls, name, file, line] [type=value_error, input_value={'sort_key': '11', 'func_filter': '', 'top_n': 10}, input_type=dict]\n    For further information visit https://errors.pydantic.dev/2.8/v/value_error",
     "output_type": "error",
     "traceback": [
      "\u001b[0;31m---------------------------------------------------------------------------\u001b[0m",
      "\u001b[0;31mValidationError\u001b[0m                           Traceback (most recent call last)",
      "Cell \u001b[0;32mIn[1], line 8\u001b[0m\n\u001b[1;32m      3\u001b[0m \u001b[38;5;28;01mfrom\u001b[39;00m \u001b[38;5;21;01mpython_profiling\u001b[39;00m\u001b[38;5;21;01m.\u001b[39;00m\u001b[38;5;21;01mpython_profiling_enums\u001b[39;00m \u001b[38;5;28;01mimport\u001b[39;00m SerializerStrategy\n\u001b[1;32m      5\u001b[0m storages \u001b[38;5;241m=\u001b[39m StorageConfig(serializers_strategies\u001b[38;5;241m=\u001b[39m[SerializerStrategy\u001b[38;5;241m.\u001b[39mJSON],\n\u001b[1;32m      6\u001b[0m                          file_paths\u001b[38;5;241m=\u001b[39m[\u001b[38;5;124m'\u001b[39m\u001b[38;5;124mdata.json\u001b[39m\u001b[38;5;124m'\u001b[39m])\n\u001b[0;32m----> 8\u001b[0m \u001b[38;5;129m@CallGraphTimeProfilerDecorator\u001b[39m\u001b[43m(\u001b[49m\u001b[43msort_key\u001b[49m\u001b[38;5;241;43m=\u001b[39;49m\u001b[38;5;124;43m'\u001b[39;49m\u001b[38;5;124;43m11\u001b[39;49m\u001b[38;5;124;43m'\u001b[39;49m\u001b[43m,\u001b[49m\u001b[43mstorages\u001b[49m\u001b[38;5;241;43m=\u001b[39;49m\u001b[43mstorages\u001b[49m\u001b[43m)\u001b[49m\n\u001b[1;32m      9\u001b[0m \u001b[38;5;28;01mdef\u001b[39;00m \u001b[38;5;21mhello\u001b[39m(name):\n\u001b[1;32m     10\u001b[0m     \u001b[38;5;28;01mfor\u001b[39;00m i \u001b[38;5;129;01min\u001b[39;00m \u001b[38;5;28mrange\u001b[39m(\u001b[38;5;241m10\u001b[39m):\n\u001b[1;32m     11\u001b[0m         \u001b[38;5;241m1\u001b[39m \u001b[38;5;241m/\u001b[39m \u001b[38;5;241m0\u001b[39m\n",
      "File \u001b[0;32m~/Desktop/Profiling Project V2/python_profiling/time_profiling/time_profiling_decorators.py:251\u001b[0m, in \u001b[0;36mCallGraphTimeProfilerDecorator.__init__\u001b[0;34m(self, sort_key, func_filter, top_n, storages, observer)\u001b[0m\n\u001b[1;32m    249\u001b[0m \u001b[38;5;28mself\u001b[39m\u001b[38;5;241m.\u001b[39mtop_n \u001b[38;5;241m=\u001b[39m top_n\n\u001b[1;32m    250\u001b[0m \u001b[38;5;28mself\u001b[39m\u001b[38;5;241m.\u001b[39m_init_observer(storages\u001b[38;5;241m=\u001b[39mstorages, observer\u001b[38;5;241m=\u001b[39mobserver)\n\u001b[0;32m--> 251\u001b[0m \u001b[38;5;28mself\u001b[39m\u001b[38;5;241m.\u001b[39mprofiler \u001b[38;5;241m=\u001b[39m \u001b[43mcall_graph_time_profiler\u001b[49m\u001b[38;5;241;43m.\u001b[39;49m\u001b[43mCallGraphTimeProfiler\u001b[49m\u001b[43m(\u001b[49m\u001b[43msort_key\u001b[49m\u001b[38;5;241;43m=\u001b[39;49m\u001b[38;5;28;43mself\u001b[39;49m\u001b[38;5;241;43m.\u001b[39;49m\u001b[43msort_key\u001b[49m\u001b[43m,\u001b[49m\n\u001b[1;32m    252\u001b[0m \u001b[43m                                                               \u001b[49m\u001b[43mfunc_filter\u001b[49m\u001b[38;5;241;43m=\u001b[39;49m\u001b[38;5;28;43mself\u001b[39;49m\u001b[38;5;241;43m.\u001b[39;49m\u001b[43mfunc_filter\u001b[49m\u001b[43m,\u001b[49m\n\u001b[1;32m    253\u001b[0m \u001b[43m                                                               \u001b[49m\u001b[43mtop_n\u001b[49m\u001b[38;5;241;43m=\u001b[39;49m\u001b[38;5;28;43mself\u001b[39;49m\u001b[38;5;241;43m.\u001b[39;49m\u001b[43mtop_n\u001b[49m\u001b[43m)\u001b[49m\n",
      "File \u001b[0;32m~/anaconda3/lib/python3.10/site-packages/pydantic/main.py:193\u001b[0m, in \u001b[0;36mBaseModel.__init__\u001b[0;34m(self, **data)\u001b[0m\n\u001b[1;32m    191\u001b[0m \u001b[38;5;66;03m# `__tracebackhide__` tells pytest and some other tools to omit this function from tracebacks\u001b[39;00m\n\u001b[1;32m    192\u001b[0m __tracebackhide__ \u001b[38;5;241m=\u001b[39m \u001b[38;5;28;01mTrue\u001b[39;00m\n\u001b[0;32m--> 193\u001b[0m \u001b[38;5;28;43mself\u001b[39;49m\u001b[38;5;241;43m.\u001b[39;49m\u001b[43m__pydantic_validator__\u001b[49m\u001b[38;5;241;43m.\u001b[39;49m\u001b[43mvalidate_python\u001b[49m\u001b[43m(\u001b[49m\u001b[43mdata\u001b[49m\u001b[43m,\u001b[49m\u001b[43m \u001b[49m\u001b[43mself_instance\u001b[49m\u001b[38;5;241;43m=\u001b[39;49m\u001b[38;5;28;43mself\u001b[39;49m\u001b[43m)\u001b[49m\n",
      "\u001b[0;31mValidationError\u001b[0m: 1 validation error for CallGraphTimeProfiler\n  Value error, Invalid sort key, valid options: [time, cumulative, calls, name, file, line] [type=value_error, input_value={'sort_key': '11', 'func_filter': '', 'top_n': 10}, input_type=dict]\n    For further information visit https://errors.pydantic.dev/2.8/v/value_error"
     ]
    }
   ],
   "source": [
    "from python_profiling.time_profiling.time_profiling_decorators import CallGraphTimeProfilerDecorator\n",
    "from python_profiling.python_profiling_configs import StorageConfig\n",
    "from python_profiling.python_profiling_enums import SerializerStrategy\n",
    "\n",
    "storages = StorageConfig(serializers_strategies=[SerializerStrategy.JSON],\n",
    "                         file_paths=['data.json'])\n",
    "\n",
    "@CallGraphTimeProfilerDecorator(sort_key='11',storages=storages)\n",
    "def hello(name):\n",
    "    for i in range(10):\n",
    "        1 / 0\n",
    "\n",
    "result = hello(name='bob')\n",
    "print(result)"
   ]
  },
  {
   "cell_type": "code",
   "execution_count": null,
   "metadata": {},
   "outputs": [],
   "source": []
  }
 ],
 "metadata": {
  "kernelspec": {
   "display_name": "base",
   "language": "python",
   "name": "python3"
  },
  "language_info": {
   "codemirror_mode": {
    "name": "ipython",
    "version": 3
   },
   "file_extension": ".py",
   "mimetype": "text/x-python",
   "name": "python",
   "nbconvert_exporter": "python",
   "pygments_lexer": "ipython3",
   "version": "3.10.9"
  }
 },
 "nbformat": 4,
 "nbformat_minor": 2
}
