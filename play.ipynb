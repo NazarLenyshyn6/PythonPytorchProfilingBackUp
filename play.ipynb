{
 "cells": [
  {
   "cell_type": "code",
   "execution_count": 3,
   "metadata": {},
   "outputs": [
    {
     "name": "stderr",
     "output_type": "stream",
     "text": [
      "STAGE:2025-04-25 00:46:54 93276:8756444 ActivityProfilerController.cpp:314] Completed Stage: Warm Up\n",
      "STAGE:2025-04-25 00:46:54 93276:8756444 ActivityProfilerController.cpp:320] Completed Stage: Collection\n",
      "STAGE:2025-04-25 00:46:54 93276:8756444 ActivityProfilerController.cpp:324] Completed Stage: Post Processing\n"
     ]
    },
    {
     "data": {
      "text/plain": [
       "PyTorchProfilingResult(output_dir=pytorch_profiling_result_folder)"
      ]
     },
     "execution_count": 3,
     "metadata": {},
     "output_type": "execute_result"
    }
   ],
   "source": [
    "from pytorch_profiling.pytorch_profiler import PyTorchProfiler\n",
    "\n",
    "if __name__ == \"__main__\":\n",
    "    model = torch.nn.Linear(1000, 1000)\n",
    "    optimizer = torch.optim.SGD(model.parameters(), lr=0.01)\n",
    "    loss_fn = torch.nn.MSELoss()\n",
    "\n",
    "    data = torch.randn(20, 1000)\n",
    "    target = torch.randn(20, 1000)\n",
    "\n",
    "    profiler = CustomPyTorchProfiler(trace_name=\"mac_safe_profile\", output_dir=\"prifiling_output\")\n",
    "    \n",
    "    with PyTorchProfiler() as profiler:\n",
    "        for epoch in range(3):\n",
    "            profiler.record_function(\"forward\", lambda: model(data))\n",
    "            output = model(data)\n",
    "            \n",
    "            profiler.record_function(\"loss\", lambda: loss_fn(output, target))\n",
    "            loss = loss_fn(output, target)\n",
    "            \n",
    "            profiler.record_function(\"backward\", lambda: loss.backward(retain_graph=True))\n",
    "            loss.backward(retain_graph=True)\n",
    "            \n",
    "            profiler.record_function(\"optimizer_step\", lambda: optimizer.step())\n",
    "            optimizer.step()\n",
    "            optimizer.zero_grad()\n",
    "            \n",
    "    res = profiler.profiling_summary\n",
    "res\n"
   ]
  },
  {
   "cell_type": "code",
   "execution_count": 4,
   "metadata": {},
   "outputs": [
    {
     "name": "stdout",
     "output_type": "stream",
     "text": [
      "PyTorch Profiling Result.\n",
      "\n",
      "Trace Name: `default_trace`  \n",
      "Total Duration: `0.0481 seconds`  \n",
      "Output Directory: `pytorch_profiling_result_folder`  \n",
      "\n",
      "- How to View:\n",
      "    1. Run this in your terminal: tensorboard --logdir=pytorch_profiling_result_folder\n",
      "    2. Then open [http://localhost:6006](http://localhost:6006)\n",
      "\n",
      "- Notes:\n",
      "    1. CPU-only profiling (macOS doesn't support CUDA)\n",
      "    2. View the *\"Profiler\"* tab in TensorBoard\n",
      "\n"
     ]
    }
   ],
   "source": [
    "print(res)"
   ]
  },
  {
   "cell_type": "code",
   "execution_count": 5,
   "metadata": {},
   "outputs": [
    {
     "data": {
      "text/plain": [
       "{'trace_name': 'default_trace',\n",
       " 'duration': 0.04809689521789551,\n",
       " 'output_dir': 'pytorch_profiling_result_folder'}"
      ]
     },
     "execution_count": 5,
     "metadata": {},
     "output_type": "execute_result"
    }
   ],
   "source": [
    "res.profiling_data"
   ]
  },
  {
   "cell_type": "code",
   "execution_count": null,
   "metadata": {},
   "outputs": [],
   "source": []
  }
 ],
 "metadata": {
  "kernelspec": {
   "display_name": "base",
   "language": "python",
   "name": "python3"
  },
  "language_info": {
   "codemirror_mode": {
    "name": "ipython",
    "version": 3
   },
   "file_extension": ".py",
   "mimetype": "text/x-python",
   "name": "python",
   "nbconvert_exporter": "python",
   "pygments_lexer": "ipython3",
   "version": "3.10.9"
  }
 },
 "nbformat": 4,
 "nbformat_minor": 2
}
