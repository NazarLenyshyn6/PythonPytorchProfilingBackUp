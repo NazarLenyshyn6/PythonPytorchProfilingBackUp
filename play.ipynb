{
 "cells": [
  {
   "cell_type": "code",
   "execution_count": 1,
   "metadata": {},
   "outputs": [],
   "source": [
    "from line_profiler import LineProfiler"
   ]
  },
  {
   "cell_type": "code",
   "execution_count": 2,
   "metadata": {},
   "outputs": [
    {
     "data": {
      "text/plain": [
       "{('/var/folders/k9/6y59tr5d45s1nynfg_sv5zr80000gn/T/ipykernel_976/3009186789.py',\n",
       "  4,\n",
       "  'expensive_function'): []}"
      ]
     },
     "execution_count": 2,
     "metadata": {},
     "output_type": "execute_result"
    }
   ],
   "source": [
    "from line_profiler import LineProfiler\n",
    "\n",
    "# Example function\n",
    "def expensive_function(n=10):\n",
    "    total = 0\n",
    "    for i in range(n):\n",
    "        total += i\n",
    "    return total\n",
    "\n",
    "# Create a LineProfiler instance\n",
    "profiler = LineProfiler()\n",
    "\n",
    "# Add the function to the profiler\n",
    "profiler.add_function(expensive_function)\n",
    "\n",
    "# Run the function to collect profiling data\n",
    "expensive_function()\n",
    "\n",
    "# Retrieve the profiling stats as LineStats\n",
    "stats = profiler.get_stats()\n",
    "\n",
    "# Print the profiling data for 'expensive_function'\n",
    "stats.timings"
   ]
  },
  {
   "cell_type": "code",
   "execution_count": 3,
   "metadata": {},
   "outputs": [
    {
     "name": "stdout",
     "output_type": "stream",
     "text": [
      "Timer unit: 1e-09 s\n",
      "\n",
      "Total time: 0 s\n",
      "File: /var/folders/k9/6y59tr5d45s1nynfg_sv5zr80000gn/T/ipykernel_976/3009186789.py\n",
      "Function: expensive_function at line 4\n",
      "\n",
      "Line #      Hits         Time  Per Hit   % Time  Line Contents\n",
      "==============================================================\n",
      "     4                                           def expensive_function(n=10):\n",
      "     5                                               total = 0\n",
      "     6                                               for i in range(n):\n",
      "     7                                                   total += i\n",
      "     8                                               return total\n",
      "\n"
     ]
    }
   ],
   "source": [
    "profiler.print_stats()"
   ]
  },
  {
   "cell_type": "code",
   "execution_count": 4,
   "metadata": {},
   "outputs": [
    {
     "data": {
      "text/plain": [
       "{('/var/folders/k9/6y59tr5d45s1nynfg_sv5zr80000gn/T/ipykernel_976/3009186789.py',\n",
       "  4,\n",
       "  'expensive_function'): []}"
      ]
     },
     "execution_count": 4,
     "metadata": {},
     "output_type": "execute_result"
    }
   ],
   "source": [
    "stats.timings"
   ]
  },
  {
   "cell_type": "code",
   "execution_count": 7,
   "metadata": {},
   "outputs": [],
   "source": [
    "import sys\n",
    "import io\n",
    "from line_profiler import LineProfiler\n",
    "\n",
    "# A sample function to profile\n",
    "def expensive_function():\n",
    "    a = 0\n",
    "    for i in range(1000):\n",
    "        a += i\n",
    "    return a\n",
    "\n",
    "# Create a LineProfiler instance\n",
    "profiler = LineProfiler()\n",
    "\n",
    "# Add the function to the profiler\n",
    "profiler.add_function(expensive_function)\n",
    "\n",
    "# Run the function while profiling\n",
    "profiler.enable_by_count()  # Enable the profiler\n",
    "expensive_function()\n",
    "profiler.disable_by_count()  # Disable the profiler\n",
    "\n",
    "# Capture the output of print_stats\n",
    "output = io.StringIO()\n",
    "sys.stdout = output  # Redirect stdout to capture print_stats output\n",
    "profiler.print_stats()\n",
    "sys.stdout = sys.__stdout__  # Reset stdout\n",
    "\n",
    "# Now 'output' contains everything that print_stats would print\n",
    "stats_output = output.getvalue()\n"
   ]
  },
  {
   "cell_type": "code",
   "execution_count": 11,
   "metadata": {},
   "outputs": [
    {
     "data": {
      "text/plain": [
       "'Timer unit: 1e-09 s\\n\\nTotal time: 0.001937 s\\nFile: /var/folders/k9/6y59tr5d45s1nynfg_sv5zr80000gn/T/ipykernel_976/4288502995.py\\nFunction: expensive_function at line 6\\n\\nLine #      Hits         Time  Per Hit   % Time  Line Contents\\n==============================================================\\n     6                                           def expensive_function():\\n     7         1       1000.0   1000.0      0.1      a = 0\\n     8      1001     487000.0    486.5     25.1      for i in range(1000):\\n     9      1000    1449000.0   1449.0     74.8          a += i\\n    10         1          0.0      0.0      0.0      return a\\n\\n'"
      ]
     },
     "execution_count": 11,
     "metadata": {},
     "output_type": "execute_result"
    }
   ],
   "source": [
    "stats_output"
   ]
  },
  {
   "cell_type": "code",
   "execution_count": null,
   "metadata": {},
   "outputs": [],
   "source": []
  },
  {
   "cell_type": "code",
   "execution_count": null,
   "metadata": {},
   "outputs": [
    {
     "data": {
      "text/plain": [
       "python_profiling.time_profiling.time_profiler.TimeProfiler"
      ]
     },
     "execution_count": 3,
     "metadata": {},
     "output_type": "execute_result"
    }
   ],
   "source": []
  },
  {
   "cell_type": "code",
   "execution_count": null,
   "metadata": {},
   "outputs": [],
   "source": []
  }
 ],
 "metadata": {
  "kernelspec": {
   "display_name": "base",
   "language": "python",
   "name": "python3"
  },
  "language_info": {
   "codemirror_mode": {
    "name": "ipython",
    "version": 3
   },
   "file_extension": ".py",
   "mimetype": "text/x-python",
   "name": "python",
   "nbconvert_exporter": "python",
   "pygments_lexer": "ipython3",
   "version": "3.10.9"
  }
 },
 "nbformat": 4,
 "nbformat_minor": 2
}
