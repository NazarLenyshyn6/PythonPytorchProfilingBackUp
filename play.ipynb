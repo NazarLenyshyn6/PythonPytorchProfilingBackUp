{
 "cells": [
  {
   "cell_type": "code",
   "execution_count": 1,
   "metadata": {},
   "outputs": [],
   "source": [
    "import torch\n",
    "from torch.profiler import profile, record_function, ProfilerActivity\n",
    "import time\n",
    "import os\n",
    "import matplotlib.pyplot as plt\n",
    "from datetime import datetime\n",
    "\n",
    "class CustomPyTorchProfiler:\n",
    "    def __init__(self, trace_name=\"default_trace\", output_dir=\"output\", activities=None):\n",
    "        \"\"\"Initializes the custom profiler with given configurations.\"\"\"\n",
    "        if activities is None:\n",
    "            activities = [ProfilerActivity.CPU]  # Default to CPU for macOS\n",
    "\n",
    "        self.trace_name = trace_name\n",
    "        self.output_dir = output_dir\n",
    "        self.activities = activities\n",
    "        self.profiler = None\n",
    "        self.start_time = None\n",
    "        self.end_time = None\n",
    "        self.create_output_dir()\n",
    "\n",
    "    def create_output_dir(self):\n",
    "        \"\"\"Ensure the output directory exists.\"\"\"\n",
    "        if not os.path.exists(self.output_dir):\n",
    "            os.makedirs(self.output_dir)\n",
    "\n",
    "    def start(self):\n",
    "        \"\"\"Start the profiling session.\"\"\"\n",
    "        self.start_time = time.time()\n",
    "        self.profiler = profile(\n",
    "            activities=self.activities,\n",
    "            on_trace_ready=torch.profiler.tensorboard_trace_handler(self.output_dir),\n",
    "            record_shapes=True,\n",
    "            profile_memory=True,\n",
    "            with_stack=True\n",
    "        )\n",
    "        self.profiler.__enter__()\n",
    "\n",
    "    def stop(self):\n",
    "        \"\"\"Stop the profiling session and export summary.\"\"\"\n",
    "        self.end_time = time.time()\n",
    "        self.profiler.__exit__(None, None, None)\n",
    "        self.export_summary_report()\n",
    "\n",
    "    def record_function(self, name, func):\n",
    "        \"\"\"Wrap a function with profiling.\"\"\"\n",
    "        with record_function(name):\n",
    "            func()\n",
    "\n",
    "    def get_summary(self):\n",
    "        \"\"\"Returns summary of the profiling session.\"\"\"\n",
    "        return {\n",
    "            \"trace_name\": self.trace_name,\n",
    "            \"duration\": self.end_time - self.start_time,\n",
    "            \"output_dir\": self.output_dir\n",
    "        }\n",
    "\n",
    "    def log_summary(self):\n",
    "        \"\"\"Prints the profiling summary.\"\"\"\n",
    "        summary = self.get_summary()\n",
    "        print(\"\\n[Profiler Summary]\")\n",
    "        print(f\"Trace Name     : {summary['trace_name']}\")\n",
    "        print(f\"Total Duration : {summary['duration']:.4f} seconds\")\n",
    "        print(f\"Output Dir     : {summary['output_dir']}\")\n",
    "        print(f\"\\nView it in TensorBoard:\\n  tensorboard --logdir={summary['output_dir']}\\n\")\n",
    "\n",
    "    def export_summary_report(self):\n",
    "        \"\"\"Exports Markdown and a chart summarizing the profiling session.\"\"\"\n",
    "        summary = self.get_summary()\n",
    "        now = datetime.now().strftime(\"%Y-%m-%d %H:%M:%S\")\n",
    "\n",
    "        # Markdown report\n",
    "        report_md = f\"\"\"# PyTorch Profiling Report\n",
    "\n",
    "**Generated**: {now}  \n",
    "**Trace Name**: `{summary['trace_name']}`  \n",
    "**Total Duration**: `{summary['duration']:.4f} seconds`  \n",
    "**Output Directory**: `{summary['output_dir']}`  \n",
    "\n",
    "## How to View\n",
    "\n",
    "Run this in your terminal: tensorboard --logdir={summary['output_dir']}\n",
    "\n",
    "Then open [http://localhost:6006](http://localhost:6006)\n",
    "\n",
    "## Notes\n",
    "\n",
    "- CPU-only profiling (macOS doesn't support CUDA)\n",
    "- View the *\"Profiler\"* tab in TensorBoard\n",
    "\"\"\"\n",
    "\n",
    "        # Save Markdown\n",
    "        report_path = os.path.join(summary['output_dir'], f\"{summary['trace_name']}_report.md\")\n",
    "        with open(report_path, \"w\") as f:\n",
    "            f.write(report_md)\n",
    "        print(f\"[+] Markdown report saved: {report_path}\")\n",
    "\n",
    "        # Save duration chart\n",
    "        fig, ax = plt.subplots()\n",
    "        ax.bar([\"Profile Duration\"], [summary['duration']], color='skyblue')\n",
    "        ax.set_ylabel(\"Seconds\")\n",
    "        ax.set_title(f\"Trace: {summary['trace_name']}\")\n",
    "        fig.tight_layout()\n",
    "\n",
    "        chart_path = os.path.join(summary['output_dir'], f\"{summary['trace_name']}_duration_chart.png\")\n",
    "        plt.savefig(chart_path)\n",
    "        plt.close()\n",
    "        print(f\"[+] Duration chart saved: {chart_path}\")\n",
    "\n"
   ]
  },
  {
   "cell_type": "code",
   "execution_count": 2,
   "metadata": {},
   "outputs": [],
   "source": [
    "# if __name__ == \"__main__\":\n",
    "#     model = torch.nn.Linear(1000, 1000)\n",
    "#     optimizer = torch.optim.SGD(model.parameters(), lr=0.01)\n",
    "#     loss_fn = torch.nn.MSELoss()\n",
    "\n",
    "#     data = torch.randn(20, 1000)\n",
    "#     target = torch.randn(20, 1000)\n",
    "\n",
    "#     profiler = CustomPyTorchProfiler(trace_name=\"mac_safe_profile\", output_dir=\"prifiling_output\")\n",
    "\n",
    "#     profiler.start()\n",
    "\n",
    "#     for epoch in range(3):\n",
    "#         profiler.record_function(\"forward\", lambda: model(data))\n",
    "#         output = model(data)\n",
    "\n",
    "#         profiler.record_function(\"loss\", lambda: loss_fn(output, target))\n",
    "#         loss = loss_fn(output, target)\n",
    "\n",
    "#         profiler.record_function(\"backward\", lambda: loss.backward(retain_graph=True))\n",
    "#         loss.backward(retain_graph=True)\n",
    "\n",
    "#         profiler.record_function(\"optimizer_step\", lambda: optimizer.step())\n",
    "#         optimizer.step()\n",
    "#         optimizer.zero_grad()\n",
    "\n",
    "#     profiler.stop()\n",
    "#     profiler.log_summary()\n",
    "\n"
   ]
  },
  {
   "cell_type": "code",
   "execution_count": 3,
   "metadata": {},
   "outputs": [
    {
     "name": "stderr",
     "output_type": "stream",
     "text": [
      "STAGE:2025-04-25 00:46:54 93276:8756444 ActivityProfilerController.cpp:314] Completed Stage: Warm Up\n",
      "STAGE:2025-04-25 00:46:54 93276:8756444 ActivityProfilerController.cpp:320] Completed Stage: Collection\n",
      "STAGE:2025-04-25 00:46:54 93276:8756444 ActivityProfilerController.cpp:324] Completed Stage: Post Processing\n"
     ]
    },
    {
     "data": {
      "text/plain": [
       "PyTorchProfilingResult(output_dir=pytorch_profiling_result_folder)"
      ]
     },
     "execution_count": 3,
     "metadata": {},
     "output_type": "execute_result"
    }
   ],
   "source": [
    "from pytorch_profiling.pytorch_profiler import PyTorchProfiler\n",
    "\n",
    "if __name__ == \"__main__\":\n",
    "    model = torch.nn.Linear(1000, 1000)\n",
    "    optimizer = torch.optim.SGD(model.parameters(), lr=0.01)\n",
    "    loss_fn = torch.nn.MSELoss()\n",
    "\n",
    "    data = torch.randn(20, 1000)\n",
    "    target = torch.randn(20, 1000)\n",
    "\n",
    "    profiler = CustomPyTorchProfiler(trace_name=\"mac_safe_profile\", output_dir=\"prifiling_output\")\n",
    "    \n",
    "    with PyTorchProfiler() as profiler:\n",
    "        for epoch in range(3):\n",
    "            profiler.record_function(\"forward\", lambda: model(data))\n",
    "            output = model(data)\n",
    "            \n",
    "            profiler.record_function(\"loss\", lambda: loss_fn(output, target))\n",
    "            loss = loss_fn(output, target)\n",
    "            \n",
    "            profiler.record_function(\"backward\", lambda: loss.backward(retain_graph=True))\n",
    "            loss.backward(retain_graph=True)\n",
    "            \n",
    "            profiler.record_function(\"optimizer_step\", lambda: optimizer.step())\n",
    "            optimizer.step()\n",
    "            optimizer.zero_grad()\n",
    "            \n",
    "    res = profiler.profiling_summary\n",
    "res\n"
   ]
  },
  {
   "cell_type": "code",
   "execution_count": 4,
   "metadata": {},
   "outputs": [
    {
     "name": "stdout",
     "output_type": "stream",
     "text": [
      "PyTorch Profiling Result.\n",
      "\n",
      "Trace Name: `default_trace`  \n",
      "Total Duration: `0.0481 seconds`  \n",
      "Output Directory: `pytorch_profiling_result_folder`  \n",
      "\n",
      "- How to View:\n",
      "    1. Run this in your terminal: tensorboard --logdir=pytorch_profiling_result_folder\n",
      "    2. Then open [http://localhost:6006](http://localhost:6006)\n",
      "\n",
      "- Notes:\n",
      "    1. CPU-only profiling (macOS doesn't support CUDA)\n",
      "    2. View the *\"Profiler\"* tab in TensorBoard\n",
      "\n"
     ]
    }
   ],
   "source": [
    "print(res)"
   ]
  },
  {
   "cell_type": "code",
   "execution_count": 5,
   "metadata": {},
   "outputs": [
    {
     "data": {
      "text/plain": [
       "{'trace_name': 'default_trace',\n",
       " 'duration': 0.04809689521789551,\n",
       " 'output_dir': 'pytorch_profiling_result_folder'}"
      ]
     },
     "execution_count": 5,
     "metadata": {},
     "output_type": "execute_result"
    }
   ],
   "source": [
    "res.profiling_data"
   ]
  },
  {
   "cell_type": "code",
   "execution_count": null,
   "metadata": {},
   "outputs": [],
   "source": []
  }
 ],
 "metadata": {
  "kernelspec": {
   "display_name": "base",
   "language": "python",
   "name": "python3"
  },
  "language_info": {
   "codemirror_mode": {
    "name": "ipython",
    "version": 3
   },
   "file_extension": ".py",
   "mimetype": "text/x-python",
   "name": "python",
   "nbconvert_exporter": "python",
   "pygments_lexer": "ipython3",
   "version": "3.10.9"
  }
 },
 "nbformat": 4,
 "nbformat_minor": 2
}
