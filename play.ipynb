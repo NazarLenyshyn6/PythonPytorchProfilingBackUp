{
 "cells": [
  {
   "cell_type": "code",
   "execution_count": 1,
   "metadata": {},
   "outputs": [],
   "source": [
    "from python_profiling.python_profiling_configs import ComposedProfilingConfig\n",
    "from python_profiling.python_profiling_enums import *\n",
    "from python_profiling.composed_profiling.composed_profiler import ComposedProfiler"
   ]
  },
  {
   "cell_type": "code",
   "execution_count": 2,
   "metadata": {},
   "outputs": [],
   "source": [
    "configs = ComposedProfilingConfig(time_profiling_strategy=TimeProfilingStrategy.LINE_TIME_PROFILER,\n",
    "                                 memory_profiling_strategy=MemoryProfilingStrategy.LINE_MEMORY_PROFILER,\n",
    "                                 memory_profiling_strategy_params = {'interval': 11})"
   ]
  },
  {
   "cell_type": "code",
   "execution_count": 3,
   "metadata": {},
   "outputs": [],
   "source": [
    "@ComposedProfiler(composed_profiling_config=configs)\n",
    "def hello(name):\n",
    "    print(f'hello {name}')\n",
    "    \n",
    "    b = [i for i in range(1000000)]\n",
    "    1 / 0\n",
    "    return 1"
   ]
  },
  {
   "cell_type": "code",
   "execution_count": 4,
   "metadata": {},
   "outputs": [
    {
     "name": "stdout",
     "output_type": "stream",
     "text": [
      "hello bob\n",
      "hello bob\n"
     ]
    },
    {
     "data": {
      "text/plain": [
       "ComposedProfilerResult(time_profiling_result=LineTimeProfilerResult(profiler=type, profiled_func=<function hello at 0x7fda108575b0>), memory_profiling_result=LineMemoryProfilerResult(profiler=LineMemoryProfiler, profiled_func=hello))"
      ]
     },
     "execution_count": 4,
     "metadata": {},
     "output_type": "execute_result"
    }
   ],
   "source": [
    "res = hello(name='bob')\n",
    "res"
   ]
  },
  {
   "cell_type": "code",
   "execution_count": 5,
   "metadata": {},
   "outputs": [
    {
     "name": "stdout",
     "output_type": "stream",
     "text": [
      "Time Profiling Result:\n",
      "Profiler: <class 'python_profiling.time_profiling.line_time_profiler.LineTimeProfiler'>\n",
      "Profiled Function: hello\n",
      "Function Kwargs: {'name': 'bob'}\n",
      "Function Result: None\n",
      "Function Profiling Result: Timer unit: 1e-09 s\n",
      "\n",
      "Total time: 0.114862 s\n",
      "File: /var/folders/k9/6y59tr5d45s1nynfg_sv5zr80000gn/T/ipykernel_32417/3152039017.py\n",
      "Function: hello at line 1\n",
      "\n",
      "Line #      Hits         Time  Per Hit   % Time  Line Contents\n",
      "==============================================================\n",
      "     1                                           @ComposedProfiler(composed_profiling_config=configs)\n",
      "     2                                           def hello(name):\n",
      "     3         1     260000.0 260000.0      0.2      print(f'hello {name}')\n",
      "     4                                               \n",
      "     5         1  114597000.0    1e+08     99.8      b = [i for i in range(1000000)]\n",
      "     6         1       5000.0   5000.0      0.0      1 / 0\n",
      "     7                                               return 1\n",
      "\n",
      "\n",
      "Function Exceptions: <class 'ZeroDivisionError'>\n",
      "Memory Profiling Result:\n",
      "Profiler: <class 'python_profiling.memory_profiling.line_memory_profiler.LineMemoryProfiler'>\n",
      "Profiled Function: hello\n",
      "Function Kwargs: {'name': 'bob'}\n",
      "Function Result: None\n",
      "Start Memory: 0 MiB\n",
      "Peak Memory: 0 MiB\n",
      "End memory: 0 MiB\n",
      "Max memory increase: 0 MiB\n",
      "Memory timeline: []\n",
      "Function Exception: <class 'ZeroDivisionError'>\n"
     ]
    }
   ],
   "source": [
    "print(res)"
   ]
  },
  {
   "cell_type": "code",
   "execution_count": 6,
   "metadata": {},
   "outputs": [],
   "source": [
    "@ComposedProfiler()\n",
    "def hello(name):\n",
    "    print(f'hello {name}')\n",
    "    \n",
    "    b = [i for i in range(1000000)]\n",
    "    1 / 0\n",
    "    return 1"
   ]
  },
  {
   "cell_type": "code",
   "execution_count": 7,
   "metadata": {},
   "outputs": [
    {
     "name": "stdout",
     "output_type": "stream",
     "text": [
      "hello bob\n",
      "Time Profiling Result:\n",
      "Profiler: <class 'python_profiling.time_profiling.line_time_profiler.LineTimeProfiler'>\n",
      "Profiled Function: hello\n",
      "Function Kwargs: {'name': 'bob'}\n",
      "Function Result: None\n",
      "Function Profiling Result: Timer unit: 1e-09 s\n",
      "\n",
      "Total time: 0.123851 s\n",
      "File: /var/folders/k9/6y59tr5d45s1nynfg_sv5zr80000gn/T/ipykernel_32417/3949927082.py\n",
      "Function: hello at line 1\n",
      "\n",
      "Line #      Hits         Time  Per Hit   % Time  Line Contents\n",
      "==============================================================\n",
      "     1                                           @ComposedProfiler()\n",
      "     2                                           def hello(name):\n",
      "     3         1     812000.0 812000.0      0.7      print(f'hello {name}')\n",
      "     4                                               \n",
      "     5         1  123034000.0    1e+08     99.3      b = [i for i in range(1000000)]\n",
      "     6         1       5000.0   5000.0      0.0      1 / 0\n",
      "     7                                               return 1\n",
      "\n",
      "\n",
      "Function Exceptions: <class 'ZeroDivisionError'>\n",
      "Memory Profiling Result:\n",
      "Profiler: <class 'python_profiling.memory_profiling.object_allocation_profiler.ObjectAllocationProfiler'>\n",
      "Profiled Function: hello\n",
      "Function Kwargs: {'name': 'bob'}\n",
      "Function Result: None\n",
      "Tracker: <pympler.tracker.SummaryTracker object at 0x7fda1080c6a0>\n",
      "Before memory allocation:                        types |   # objects |   total size\n",
      "============================ | =========== | ============\n",
      "                        list |       14656 |      1.23 MB\n",
      "                         str |       14654 |      1.05 MB\n",
      "                         int |        3256 |     89.03 KB\n",
      "       function (store_info) |           1 |    144     B\n",
      "                _io.StringIO |           1 |    136     B\n",
      "                        code |          -1 |    113     B\n",
      "    functools._lru_list_elem |           1 |     56     B\n",
      "                       float |          -2 |    -48     B\n",
      "               list_iterator |          -1 |    -48     B\n",
      "  builtin_function_or_method |          -1 |    -72     B\n",
      "                        cell |          -2 |    -80     B\n",
      "       asyncio.events.Handle |          -1 |    -96     B\n",
      "                        dict |          -1 |   -152     B\n",
      "        _contextvars.Context |          -3 |   -192     B\n",
      "  asyncio.events.TimerHandle |          -2 |   -224     B\n",
      "After memory allocation:                        types |   # objects |   total size\n",
      "============================ | =========== | ============\n",
      "                        list |       14656 |      1.23 MB\n",
      "                         str |       14654 |      1.05 MB\n",
      "                         int |        3256 |     89.03 KB\n",
      "       function (store_info) |           1 |    144     B\n",
      "                _io.StringIO |           1 |    136     B\n",
      "                        code |          -1 |    113     B\n",
      "    functools._lru_list_elem |           1 |     56     B\n",
      "                       float |          -2 |    -48     B\n",
      "               list_iterator |          -1 |    -48     B\n",
      "  builtin_function_or_method |          -1 |    -72     B\n",
      "                        cell |          -2 |    -80     B\n",
      "       asyncio.events.Handle |          -1 |    -96     B\n",
      "                        dict |          -1 |   -152     B\n",
      "        _contextvars.Context |          -3 |   -192     B\n",
      "  asyncio.events.TimerHandle |          -2 |   -224     B\n",
      "hello bob\n",
      "                      types |   # objects |   total size\n",
      "=========================== | =========== | ============\n",
      "                        int |      999800 |     26.70 MB\n",
      "                       list |           1 |      8.06 MB\n",
      "                        str |           2 |      1.06 KB\n",
      "  frame (codename: profile) |           1 |    488     B\n",
      "                  traceback |           2 |    112     B\n",
      "          ZeroDivisionError |           1 |     80     B\n",
      "                      tuple |           1 |     48     B\n",
      "                       code |           0 |     37     B\n",
      "                     method |          -1 |    -64     B\n",
      "Function Exception: <class 'ZeroDivisionError'>\n"
     ]
    }
   ],
   "source": [
    "res = hello(name='bob')\n",
    "print(res)"
   ]
  },
  {
   "cell_type": "code",
   "execution_count": 8,
   "metadata": {},
   "outputs": [
    {
     "name": "stdout",
     "output_type": "stream",
     "text": [
      "Profiling type: ProfilingType.TIME_PROFILING\n",
      "    Profiler: TimeProfilingStrategy.TIME_PROFILER\n",
      "    Profiler: TimeProfilingStrategy.TIMEIT_PROFILER\n",
      "    Profiler: TimeProfilingStrategy.LINE_TIME_PROFILER\n",
      "    Profiler: TimeProfilingStrategy.CALL_GRAPH_TIME_PROFILER\n",
      "\n",
      "Profiling type: ProfilingType.MEMORY_PROFILING\n",
      "    Profiler: MemoryProfilingStrategy.PEAK_MEMORY_PROFILER\n",
      "    Profiler: MemoryProfilingStrategy.OBJECT_ALLOCATION_PROFILER\n",
      "    Profiler: MemoryProfilingStrategy.LINE_MEMORY_PROFILER\n",
      "\n",
      "Profiling type: ProfilingType.CALL_GRAPH_PROFILING\n",
      "    Profiler: \n",
      "\n"
     ]
    }
   ],
   "source": [
    "ComposedProfilingConfig.avaliable_profilers()"
   ]
  },
  {
   "cell_type": "code",
   "execution_count": 9,
   "metadata": {},
   "outputs": [
    {
     "data": {
      "text/plain": [
       "LineTimeProfilerResult(profiler=type, profiled_func=<function hello at 0x7fda108576d0>)"
      ]
     },
     "execution_count": 9,
     "metadata": {},
     "output_type": "execute_result"
    }
   ],
   "source": [
    "res.time_profiling_result"
   ]
  },
  {
   "cell_type": "code",
   "execution_count": 10,
   "metadata": {},
   "outputs": [
    {
     "data": {
      "text/plain": [
       "ObjectAllocationProfilerResult(profiler=ObjectAllocationProfiler, profiled_func=hello)"
      ]
     },
     "execution_count": 10,
     "metadata": {},
     "output_type": "execute_result"
    }
   ],
   "source": [
    "res.memory_profiling_result"
   ]
  },
  {
   "cell_type": "code",
   "execution_count": null,
   "metadata": {},
   "outputs": [],
   "source": []
  }
 ],
 "metadata": {
  "kernelspec": {
   "display_name": "base",
   "language": "python",
   "name": "python3"
  },
  "language_info": {
   "codemirror_mode": {
    "name": "ipython",
    "version": 3
   },
   "file_extension": ".py",
   "mimetype": "text/x-python",
   "name": "python",
   "nbconvert_exporter": "python",
   "pygments_lexer": "ipython3",
   "version": "3.10.9"
  }
 },
 "nbformat": 4,
 "nbformat_minor": 2
}
