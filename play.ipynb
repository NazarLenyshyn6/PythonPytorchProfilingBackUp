{
 "cells": [
  {
   "cell_type": "code",
   "execution_count": 1,
   "metadata": {},
   "outputs": [
    {
     "name": "stdout",
     "output_type": "stream",
     "text": [
      "Initial memory allocation:\n",
      "                       types |   # objects |    total size\n",
      "============================ | =========== | =============\n",
      "                        list |       13397 |       1.12 MB\n",
      "                         str |       13387 |     972.86 KB\n",
      "                         int |        3046 |      83.29 KB\n",
      "                        dict |           4 |     464     B\n",
      "                        code |           0 |     289     B\n",
      "                      method |           3 |     192     B\n",
      "       function (store_info) |           1 |     144     B\n",
      "  asyncio.events.TimerHandle |           1 |     112     B\n",
      "           functools.partial |           1 |      80     B\n",
      "                        cell |           2 |      80     B\n",
      "        _contextvars.Context |           1 |      64     B\n",
      "    functools._lru_list_elem |           1 |      56     B\n",
      "                       float |          -1 |     -24     B\n",
      "                       tuple |         -31 |   -2264     B\n",
      "\n",
      "After allocating data:\n",
      "  types |   # objects |   total size\n",
      "======= | =========== | ============\n",
      "   dict |       10000 |      2.21 MB\n",
      "   list |           3 |     83.62 KB\n",
      "    str |          18 |      1.81 KB\n",
      "   code |           0 |     37     B\n"
     ]
    }
   ],
   "source": [
    "from pympler import tracker\n",
    "\n",
    "tr = tracker.SummaryTracker()\n",
    "\n",
    "# Initial snapshot\n",
    "print(\"Initial memory allocation:\")\n",
    "tr.print_diff()\n",
    "\n",
    "# Allocate memory\n",
    "data = [{'x': i} for i in range(10000)]\n",
    "\n",
    "# Memory difference after allocation\n",
    "print(\"\\nAfter allocating data:\")\n",
    "a = tr.print_diff()\n"
   ]
  },
  {
   "cell_type": "code",
   "execution_count": 2,
   "metadata": {},
   "outputs": [],
   "source": [
    "a"
   ]
  },
  {
   "cell_type": "code",
   "execution_count": 3,
   "metadata": {},
   "outputs": [],
   "source": [
    "from pympler import muppy, summary\n",
    "\n",
    "# Optional filtering\n",
    "all_objects = muppy.get_objects()\n"
   ]
  },
  {
   "cell_type": "code",
   "execution_count": 4,
   "metadata": {},
   "outputs": [
    {
     "name": "stdout",
     "output_type": "stream",
     "text": [
      "                              types |   # objects |   total size\n",
      "=================================== | =========== | ============\n",
      "                                str |       92885 |     11.87 MB\n",
      "                               dict |       34826 |     10.77 MB\n",
      "                               list |       19385 |      4.10 MB\n",
      "                               code |       22714 |      3.87 MB\n",
      "                               type |        3304 |      3.13 MB\n",
      "                              tuple |       23083 |      1.34 MB\n",
      "                                set |        1905 |      1.18 MB\n",
      "              weakref.ReferenceType |        7531 |    529.52 KB\n",
      "                        abc.ABCMeta |         403 |    456.45 KB\n",
      "         builtin_function_or_method |        4889 |    343.76 KB\n",
      "                             method |        4965 |    310.31 KB\n",
      "                function (__init__) |        1854 |    260.72 KB\n",
      "                                int |        8816 |    259.14 KB\n",
      "  traitlets.traitlets.MetaHasTraits |         197 |    197.99 KB\n",
      "                  getset_descriptor |        2907 |    181.69 KB\n"
     ]
    }
   ],
   "source": [
    "from pympler import muppy, summary\n",
    "\n",
    "# Get all live objects in memory\n",
    "all_objects = muppy.get_objects()\n",
    "\n",
    "# Summarize memory usage by object type\n",
    "sum1 = summary.summarize(all_objects)\n",
    "\n",
    "# Print summary nicely\n",
    "summary.print_(sum1)\n"
   ]
  },
  {
   "cell_type": "code",
   "execution_count": 5,
   "metadata": {},
   "outputs": [
    {
     "name": "stdout",
     "output_type": "stream",
     "text": [
      "Total deep memory size: 50944 bytes\n"
     ]
    }
   ],
   "source": [
    "from pympler import asizeof\n",
    "\n",
    "# Complex object\n",
    "data = {\n",
    "    'list': list(range(1000)),\n",
    "    'string': 'x' * 10000,\n",
    "    'nested_dict': {'a': 1, 'b': [1, 2, 3]},\n",
    "}\n",
    "\n",
    "# Get deep memory size\n",
    "size = asizeof.asizeof(data)\n",
    "print(f\"Total deep memory size: {size} bytes\")\n"
   ]
  },
  {
   "cell_type": "code",
   "execution_count": 6,
   "metadata": {},
   "outputs": [],
   "source": [
    "from python_profiling.memory_profiling.object_allocation_profiler import ObjectAllocationProfiler\n",
    "from python_profiling.memory_profiling.memory_profiling_decorators import ObjectAllocationProfilerDecorator"
   ]
  },
  {
   "cell_type": "code",
   "execution_count": 11,
   "metadata": {},
   "outputs": [
    {
     "data": {
      "text/plain": [
       "ObjectAllocationProfilerResult(profiler=ObjectAllocationProfiler, profiled_func=hello)"
      ]
     },
     "execution_count": 11,
     "metadata": {},
     "output_type": "execute_result"
    }
   ],
   "source": [
    "@ObjectAllocationProfilerDecorator()\n",
    "def hello(name):\n",
    "    print(f'hello {name}')\n",
    "    l = [i for i in range(10000)]\n",
    "    return 1\n",
    "\n",
    "res = hello(name='bob')\n",
    "res"
   ]
  },
  {
   "cell_type": "code",
   "execution_count": 8,
   "metadata": {},
   "outputs": [
    {
     "name": "stdout",
     "output_type": "stream",
     "text": [
      "Profiler: <class 'python_profiling.memory_profiling.object_allocation_profiler.ObjectAllocationProfiler'>\n",
      "Profiled Function: hello\n",
      "Function Kwargs: {'name': 'bob'}\n",
      "Function Result: 1\n",
      "Tracker: <pympler.tracker.SummaryTracker object at 0x7fb3f4ce6050>\n",
      "Before memory allocation:                             types |   # objects |   total size\n",
      "================================= | =========== | ============\n",
      "                             list |       14476 |      1.22 MB\n",
      "                              str |       14479 |      1.03 MB\n",
      "                              int |        3220 |     88.05 KB\n",
      "                             code |           1 |    176     B\n",
      "            function (store_info) |           1 |    144     B\n",
      "                     _io.StringIO |           1 |    136     B\n",
      "            weakref.ReferenceType |           1 |     72     B\n",
      "             _contextvars.Context |           1 |     64     B\n",
      "                           method |           1 |     64     B\n",
      "              threading.Condition |          -1 |    -48     B\n",
      "  concurrent.futures._base.Future |          -1 |    -48     B\n",
      "                    _thread.RLock |          -1 |    -64     B\n",
      "       function (_call_set_state) |          -1 |   -144     B\n",
      "            function (_set_state) |          -1 |   -144     B\n",
      "                  _asyncio.Future |          -1 |   -168     B\n",
      "After memory allocation:                             types |   # objects |   total size\n",
      "================================= | =========== | ============\n",
      "                             list |       14476 |      1.22 MB\n",
      "                              str |       14479 |      1.03 MB\n",
      "                              int |        3220 |     88.05 KB\n",
      "                             code |           1 |    176     B\n",
      "            function (store_info) |           1 |    144     B\n",
      "                     _io.StringIO |           1 |    136     B\n",
      "            weakref.ReferenceType |           1 |     72     B\n",
      "             _contextvars.Context |           1 |     64     B\n",
      "                           method |           1 |     64     B\n",
      "              threading.Condition |          -1 |    -48     B\n",
      "  concurrent.futures._base.Future |          -1 |    -48     B\n",
      "                    _thread.RLock |          -1 |    -64     B\n",
      "       function (_call_set_state) |          -1 |   -144     B\n",
      "            function (_set_state) |          -1 |   -144     B\n",
      "                  _asyncio.Future |          -1 |   -168     B\n",
      "hello bob\n",
      "   types |   # objects |   total size\n",
      "======== | =========== | ============\n",
      "     str |           3 |      1.22 KB\n",
      "    list |           1 |    112     B\n",
      "  method |          -1 |    -64     B\n",
      "Function Exception: None\n"
     ]
    }
   ],
   "source": [
    "print(res)"
   ]
  },
  {
   "cell_type": "code",
   "execution_count": null,
   "metadata": {},
   "outputs": [],
   "source": []
  }
 ],
 "metadata": {
  "kernelspec": {
   "display_name": "base",
   "language": "python",
   "name": "python3"
  },
  "language_info": {
   "codemirror_mode": {
    "name": "ipython",
    "version": 3
   },
   "file_extension": ".py",
   "mimetype": "text/x-python",
   "name": "python",
   "nbconvert_exporter": "python",
   "pygments_lexer": "ipython3",
   "version": "3.10.9"
  }
 },
 "nbformat": 4,
 "nbformat_minor": 2
}
