{
 "cells": [
  {
   "cell_type": "code",
   "execution_count": 1,
   "metadata": {},
   "outputs": [],
   "source": [
    "from python_profiling.time_profiling.time_profiling_decorators import TimeProfilerDecorator, TimeItProfilerDecorator\n",
    "from python_profiling.enums import SerializerStrategy\n",
    "from python_profiling.configs import StorageConfig"
   ]
  },
  {
   "cell_type": "code",
   "execution_count": 2,
   "metadata": {},
   "outputs": [],
   "source": [
    "storages = StorageConfig(serializers=[SerializerStrategy.JSON, SerializerStrategy.TXT, SerializerStrategy.YAML],\n",
    "                         file_paths=['data.json', 'data.txt', 'data.yaml'],\n",
    "                         modes=['a', 'a', 'w'])"
   ]
  },
  {
   "cell_type": "code",
   "execution_count": 3,
   "metadata": {},
   "outputs": [
    {
     "name": "stdout",
     "output_type": "stream",
     "text": [
      "Profiler: TimeProfiler(profiling_timer=<built-in function time>)\n",
      "Profiled Function: hello\n",
      "Function Args: None\n",
      "Function Kwargs: {'name': 'bob'}\n",
      "Function Result: Hello my name is bob\n",
      "Function Executions Time: 0.000001 seconds\n",
      "Function Exception: None\n"
     ]
    }
   ],
   "source": [
    "@TimeProfilerDecorator(storages=storages)\n",
    "def hello(name):\n",
    "    return 'Hello my name is bob'\n",
    "    \n",
    "res = hello(name='bob')\n",
    "print(res)"
   ]
  },
  {
   "cell_type": "code",
   "execution_count": 4,
   "metadata": {},
   "outputs": [
    {
     "name": "stdout",
     "output_type": "stream",
     "text": [
      "Profiler: <timeit.Timer object at 0x7f9d282ae710>\n",
      "Profiled Function: hello\n",
      "Function Kwargs: {'name': 'bob'}\n",
      "Function Result: None\n",
      "Function Min Executions Time: -1.000000 seconds\n",
      "Function Avg of 10 Executions Time: -1.000000 seconds\n",
      "Function Max Executions Time: -1.000000 seconds\n",
      "Function Exception: division by zero\n"
     ]
    }
   ],
   "source": [
    "@TimeItProfilerDecorator(repeat=10, number=100, storages=storages)\n",
    "def hello(name):\n",
    "    1/0\n",
    "    return 'Hello my name is bob'\n",
    "\n",
    "res = hello(name='bob')\n",
    "print(res)"
   ]
  },
  {
   "cell_type": "code",
   "execution_count": 5,
   "metadata": {},
   "outputs": [
    {
     "data": {
      "text/plain": [
       "{'profiler': <timeit.Timer at 0x7f9d282ae710>,\n",
       " 'profiled_func': <function __main__.hello(name)>,\n",
       " 'func_kwargs': {'name': 'bob'},\n",
       " 'func_result': None,\n",
       " 'repeats': 10,\n",
       " 'min_func_execution_time': -1,\n",
       " 'avg_func_execution_time': -1,\n",
       " 'max_func_execution_time': -1,\n",
       " 'func_exception': ZeroDivisionError('division by zero')}"
      ]
     },
     "execution_count": 5,
     "metadata": {},
     "output_type": "execute_result"
    }
   ],
   "source": [
    "res.add_context(context={'bob': 11})\n",
    "res.remove_context('bob')\n",
    "res.profiling_data"
   ]
  },
  {
   "cell_type": "code",
   "execution_count": 6,
   "metadata": {},
   "outputs": [
    {
     "ename": "TypeError",
     "evalue": "Essintial parameter context missing",
     "output_type": "error",
     "traceback": [
      "\u001b[0;31m---------------------------------------------------------------------------\u001b[0m",
      "\u001b[0;31mTypeError\u001b[0m                                 Traceback (most recent call last)",
      "Cell \u001b[0;32mIn[6], line 1\u001b[0m\n\u001b[0;32m----> 1\u001b[0m \u001b[43mres\u001b[49m\u001b[38;5;241;43m.\u001b[39;49m\u001b[43madd_context\u001b[49m\u001b[43m(\u001b[49m\u001b[38;5;241;43m11\u001b[39;49m\u001b[43m)\u001b[49m\n",
      "File \u001b[0;32m~/Desktop/Profiling Project V2/Internals/checks.py:29\u001b[0m, in \u001b[0;36mValidateType.__call__.<locals>.wrapper\u001b[0;34m(*args, **kwargs)\u001b[0m\n\u001b[1;32m     27\u001b[0m \u001b[38;5;28;01melse\u001b[39;00m:\n\u001b[1;32m     28\u001b[0m     \u001b[38;5;28;01mif\u001b[39;00m \u001b[38;5;129;01mnot\u001b[39;00m \u001b[38;5;28mself\u001b[39m\u001b[38;5;241m.\u001b[39mexpected[\u001b[38;5;241m0\u001b[39m] \u001b[38;5;129;01min\u001b[39;00m kwargs:\n\u001b[0;32m---> 29\u001b[0m         \u001b[38;5;28;01mraise\u001b[39;00m \u001b[38;5;167;01mTypeError\u001b[39;00m(\u001b[38;5;124mf\u001b[39m\u001b[38;5;124m'\u001b[39m\u001b[38;5;124mEssintial parameter \u001b[39m\u001b[38;5;132;01m{\u001b[39;00m\u001b[38;5;28mself\u001b[39m\u001b[38;5;241m.\u001b[39mexpected[\u001b[38;5;241m0\u001b[39m]\u001b[38;5;132;01m}\u001b[39;00m\u001b[38;5;124m missing\u001b[39m\u001b[38;5;124m'\u001b[39m)\n\u001b[1;32m     30\u001b[0m     \u001b[38;5;28mself\u001b[39m\u001b[38;5;241m.\u001b[39m_validate_arg(kwargs[\u001b[38;5;28mself\u001b[39m\u001b[38;5;241m.\u001b[39mexpected[\u001b[38;5;241m0\u001b[39m]], \u001b[38;5;28mself\u001b[39m\u001b[38;5;241m.\u001b[39mexpected[\u001b[38;5;241m1\u001b[39m])\n\u001b[1;32m     32\u001b[0m \u001b[38;5;28;01mreturn\u001b[39;00m func(\u001b[38;5;241m*\u001b[39margs, \u001b[38;5;241m*\u001b[39m\u001b[38;5;241m*\u001b[39mkwargs)\n",
      "\u001b[0;31mTypeError\u001b[0m: Essintial parameter context missing"
     ]
    }
   ],
   "source": [
    "res.add_context(11)"
   ]
  },
  {
   "cell_type": "code",
   "execution_count": null,
   "metadata": {},
   "outputs": [
    {
     "name": "stdout",
     "output_type": "stream",
     "text": [
      "(11,) {}\n"
     ]
    }
   ],
   "source": [
    "def func(*args, **kwargs):\n",
    "    print(args, kwargs)\n",
    "    \n",
    "func(11)"
   ]
  },
  {
   "cell_type": "code",
   "execution_count": 10,
   "metadata": {},
   "outputs": [
    {
     "ename": "TypeError",
     "evalue": "isinstance() argument 2 cannot be a parameterized generic",
     "output_type": "error",
     "traceback": [
      "\u001b[0;31m---------------------------------------------------------------------------\u001b[0m",
      "\u001b[0;31mTypeError\u001b[0m                                 Traceback (most recent call last)",
      "Cell \u001b[0;32mIn[10], line 4\u001b[0m\n\u001b[1;32m      1\u001b[0m \u001b[38;5;28;01mfrom\u001b[39;00m \u001b[38;5;21;01mInternals\u001b[39;00m\u001b[38;5;21;01m.\u001b[39;00m\u001b[38;5;21;01mchecks\u001b[39;00m \u001b[38;5;28;01mimport\u001b[39;00m ValidateType\n\u001b[1;32m      2\u001b[0m \u001b[38;5;28;01mfrom\u001b[39;00m \u001b[38;5;21;01mtypes\u001b[39;00m \u001b[38;5;28;01mimport\u001b[39;00m FunctionType\n\u001b[0;32m----> 4\u001b[0m \u001b[38;5;28mprint\u001b[39m(\u001b[38;5;28;43misinstance\u001b[39;49m\u001b[43m(\u001b[49m\u001b[43m[\u001b[49m\u001b[38;5;241;43m1\u001b[39;49m\u001b[43m,\u001b[49m\u001b[38;5;241;43m2\u001b[39;49m\u001b[43m,\u001b[49m\u001b[38;5;241;43m3\u001b[39;49m\u001b[43m]\u001b[49m\u001b[43m,\u001b[49m\u001b[43m \u001b[49m\u001b[38;5;28;43mlist\u001b[39;49m\u001b[43m[\u001b[49m\u001b[38;5;28;43mstr\u001b[39;49m\u001b[43m]\u001b[49m\u001b[43m)\u001b[49m)\n",
      "\u001b[0;31mTypeError\u001b[0m: isinstance() argument 2 cannot be a parameterized generic"
     ]
    }
   ],
   "source": [
    "from Internals.checks import ValidateType\n",
    "from types import FunctionType\n",
    "\n",
    "print(isinstance([1,2,3], list[str]))"
   ]
  },
  {
   "cell_type": "code",
   "execution_count": null,
   "metadata": {},
   "outputs": [],
   "source": []
  }
 ],
 "metadata": {
  "kernelspec": {
   "display_name": "base",
   "language": "python",
   "name": "python3"
  },
  "language_info": {
   "codemirror_mode": {
    "name": "ipython",
    "version": 3
   },
   "file_extension": ".py",
   "mimetype": "text/x-python",
   "name": "python",
   "nbconvert_exporter": "python",
   "pygments_lexer": "ipython3",
   "version": "3.10.9"
  }
 },
 "nbformat": 4,
 "nbformat_minor": 2
}
