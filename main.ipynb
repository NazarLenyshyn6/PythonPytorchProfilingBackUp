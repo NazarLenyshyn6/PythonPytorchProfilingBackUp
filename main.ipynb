{
 "cells": [
  {
   "cell_type": "code",
   "execution_count": 1,
   "metadata": {},
   "outputs": [],
   "source": [
    "from python_profiling.time_profiling.time_profiling_decorators import TimeProfilerDecorator, TimeItProfilerDecorator\n",
    "from python_profiling.enums import SerializerStrategy\n",
    "from python_profiling.configs import StorageConfig"
   ]
  },
  {
   "cell_type": "code",
   "execution_count": 2,
   "metadata": {},
   "outputs": [
    {
     "data": {
      "text/plain": [
       "StorageConfig(serializers=[<SerializerStrategy.JSON: 'json'>, <SerializerStrategy.TXT: 'txt'>, <SerializerStrategy.YAML: 'yaml'>], file_paths=['data.json', 'data.txt', 'data.yaml'], modes=['a', 'a', 'w'])"
      ]
     },
     "execution_count": 2,
     "metadata": {},
     "output_type": "execute_result"
    }
   ],
   "source": [
    "storages = StorageConfig(serializers=[SerializerStrategy.JSON, SerializerStrategy.TXT, SerializerStrategy.YAML],\n",
    "                         file_paths=['data.json', 'data.txt', 'data.yaml'],\n",
    "                         modes=['a', 'a', 'w'])\n",
    "\n",
    "storages"
   ]
  },
  {
   "cell_type": "code",
   "execution_count": 3,
   "metadata": {},
   "outputs": [
    {
     "name": "stdout",
     "output_type": "stream",
     "text": [
      "Profiler: TimeProfiler(profiling_timer=<built-in function time>)\n",
      "Profiled Function: hello\n",
      "Function Args: None\n",
      "Function Kwargs: {'name': 'bob'}\n",
      "Function Result: Hello my name is bob\n",
      "Function Executions Time: 0.000001 seconds\n",
      "Function Exception: None\n"
     ]
    }
   ],
   "source": [
    "@TimeProfilerDecorator(storages=storages)\n",
    "def hello(name):\n",
    "    return 'Hello my name is bob'\n",
    "    \n",
    "res = hello(name='bob')\n",
    "print(res)"
   ]
  },
  {
   "cell_type": "code",
   "execution_count": 4,
   "metadata": {},
   "outputs": [
    {
     "name": "stdout",
     "output_type": "stream",
     "text": [
      "serializers=[<SerializerStrategy.JSON: 'json'>, <SerializerStrategy.TXT: 'txt'>, <SerializerStrategy.YAML: 'yaml'>] file_paths=['data.json', 'data.txt', 'data.yaml'] modes=['a', 'a', 'w']\n",
      "Profiler: <timeit.Timer object at 0x7f82f5a5d5a0>\n",
      "Profiled Function: hello\n",
      "Function Kwargs: {'name': 'bob'}\n",
      "Function Result: None\n",
      "Function Min Executions Time: -1.000000 seconds\n",
      "Function Avg of 10 Executions Time: -1.000000 seconds\n",
      "Function Max Executions Time: -1.000000 seconds\n",
      "Function Exception: division by zero\n"
     ]
    }
   ],
   "source": [
    "@TimeItProfilerDecorator(repeat=10, number=100, storages=storages)\n",
    "def hello(name):\n",
    "    1/0\n",
    "    return 'Hello my name is bob'\n",
    "\n",
    "res = hello(name='bob')\n",
    "print(res)"
   ]
  },
  {
   "cell_type": "code",
   "execution_count": null,
   "metadata": {},
   "outputs": [],
   "source": []
  }
 ],
 "metadata": {
  "kernelspec": {
   "display_name": "base",
   "language": "python",
   "name": "python3"
  },
  "language_info": {
   "codemirror_mode": {
    "name": "ipython",
    "version": 3
   },
   "file_extension": ".py",
   "mimetype": "text/x-python",
   "name": "python",
   "nbconvert_exporter": "python",
   "pygments_lexer": "ipython3",
   "version": "3.10.9"
  }
 },
 "nbformat": 4,
 "nbformat_minor": 2
}
